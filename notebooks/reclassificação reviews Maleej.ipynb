{
 "cells": [
  {
   "cell_type": "code",
   "execution_count": 1,
   "metadata": {},
   "outputs": [],
   "source": [
    "import pandas as pd\n",
    "import numpy as np"
   ]
  },
  {
   "cell_type": "markdown",
   "metadata": {},
   "source": [
    " Para a realização desse estudo, os reviews classificados como \n",
    " 1. User Experience -> Requisitos Não-Funcionais\n",
    " 2. Feature Request -> Requisitos Funcionais\n",
    " 3. Rating -> Spam \n",
    " \n",
    " \n",
    "**Review Data and original classification from**: MAALEJ, W.; NABIL, H. Bug report, feature request, or simply praise? on automatically classifying app reviews. In: Requirements Engineering Conference (RE), 2015 IEEE 23rd International. [s.n.], 2015."
   ]
  },
  {
   "cell_type": "code",
   "execution_count": 20,
   "metadata": {},
   "outputs": [],
   "source": [
    "ux_data = pd.read_json('../REJ_data/UserExperience.json', orient='records')\n",
    "rating_data = pd.read_json('../REJ_data/Rating.json', orient='records')\n",
    "feature_data = pd.read_json('../REJ_data/Feature.json', orient='records')\n",
    "categorizados_data = pd.read_json('../categorizados.json', orient='records')"
   ]
  },
  {
   "cell_type": "code",
   "execution_count": 24,
   "metadata": {},
   "outputs": [
    {
     "data": {
      "text/html": [
       "<div>\n",
       "<style scoped>\n",
       "    .dataframe tbody tr th:only-of-type {\n",
       "        vertical-align: middle;\n",
       "    }\n",
       "\n",
       "    .dataframe tbody tr th {\n",
       "        vertical-align: top;\n",
       "    }\n",
       "\n",
       "    .dataframe thead th {\n",
       "        text-align: right;\n",
       "    }\n",
       "</style>\n",
       "<table border=\"1\" class=\"dataframe\">\n",
       "  <thead>\n",
       "    <tr style=\"text-align: right;\">\n",
       "      <th></th>\n",
       "      <th>Exclude</th>\n",
       "      <th>appId</th>\n",
       "      <th>comment</th>\n",
       "      <th>dataSource</th>\n",
       "      <th>date</th>\n",
       "      <th>fee</th>\n",
       "      <th>future</th>\n",
       "      <th>id</th>\n",
       "      <th>label</th>\n",
       "      <th>lemmatized_comment</th>\n",
       "      <th>...</th>\n",
       "      <th>reviewId</th>\n",
       "      <th>reviewer</th>\n",
       "      <th>sentiScore</th>\n",
       "      <th>sentiScore_neg</th>\n",
       "      <th>sentiScore_pos</th>\n",
       "      <th>stemmed</th>\n",
       "      <th>stopwords_removal</th>\n",
       "      <th>stopwords_removal_lemmatization</th>\n",
       "      <th>stopwords_removal_nltk</th>\n",
       "      <th>title</th>\n",
       "    </tr>\n",
       "  </thead>\n",
       "  <tbody>\n",
       "    <tr>\n",
       "      <th>0</th>\n",
       "      <td>\u0000</td>\n",
       "      <td>#3_Need for Speed Most Wanted</td>\n",
       "      <td>Urrrrm\\tAfter my third re installing, it final...</td>\n",
       "      <td>PlayStore_Random</td>\n",
       "      <td>12:44</td>\n",
       "      <td>paid</td>\n",
       "      <td>0</td>\n",
       "      <td>1</td>\n",
       "      <td>UserExperience</td>\n",
       "      <td>urrrrm after my third re installing, it finall...</td>\n",
       "      <td>...</td>\n",
       "      <td>133640</td>\n",
       "      <td>cid-gp:AOqpTOE3YjNzLOttARdiYx3b2O02-B1k-FO01WO...</td>\n",
       "      <td>-4</td>\n",
       "      <td>-4</td>\n",
       "      <td>4</td>\n",
       "      <td>urrrrm aft my third re installing, it fin has ...</td>\n",
       "      <td>urrrrm after third re installing, finally has ...</td>\n",
       "      <td>urrrrm after third re installing, finally have...</td>\n",
       "      <td>urrrrm third re installing, finally scenery ha...</td>\n",
       "      <td>None</td>\n",
       "    </tr>\n",
       "    <tr>\n",
       "      <th>1</th>\n",
       "      <td>\u0000</td>\n",
       "      <td>#8_gmx mail</td>\n",
       "      <td>Does exactly what it says on the tin\\tEffecien...</td>\n",
       "      <td>PlayStore_Random</td>\n",
       "      <td>08:01:13:16:18:28</td>\n",
       "      <td>free</td>\n",
       "      <td>0</td>\n",
       "      <td>2</td>\n",
       "      <td>UserExperience</td>\n",
       "      <td>do exactly what it say on the tin effecient en...</td>\n",
       "      <td>...</td>\n",
       "      <td>76547</td>\n",
       "      <td>cid-gp:AOqpTOE0a7o-SPPxVAKLaIivF3Tt8F5-x8Q4pBW...</td>\n",
       "      <td>-1</td>\n",
       "      <td>-1</td>\n",
       "      <td>1</td>\n",
       "      <td>doe exact what it say on the tin effecy enough...</td>\n",
       "      <td>does exactly what says tin effecient enough to...</td>\n",
       "      <td>do exactly what say tin effecient enough to ch...</td>\n",
       "      <td>exactly says tin effecient enough check respon...</td>\n",
       "      <td>None</td>\n",
       "    </tr>\n",
       "  </tbody>\n",
       "</table>\n",
       "<p>2 rows × 25 columns</p>\n",
       "</div>"
      ],
      "text/plain": [
       "  Exclude                          appId  \\\n",
       "0       \u0000  #3_Need for Speed Most Wanted   \n",
       "1       \u0000                    #8_gmx mail   \n",
       "\n",
       "                                             comment        dataSource  \\\n",
       "0  Urrrrm\\tAfter my third re installing, it final...  PlayStore_Random   \n",
       "1  Does exactly what it says on the tin\\tEffecien...  PlayStore_Random   \n",
       "\n",
       "                date   fee  future  id           label  \\\n",
       "0              12:44  paid       0   1  UserExperience   \n",
       "1  08:01:13:16:18:28  free       0   2  UserExperience   \n",
       "\n",
       "                                  lemmatized_comment  ...    reviewId  \\\n",
       "0  urrrrm after my third re installing, it finall...  ...      133640   \n",
       "1  do exactly what it say on the tin effecient en...  ...       76547   \n",
       "\n",
       "                                            reviewer  sentiScore  \\\n",
       "0  cid-gp:AOqpTOE3YjNzLOttARdiYx3b2O02-B1k-FO01WO...          -4   \n",
       "1  cid-gp:AOqpTOE0a7o-SPPxVAKLaIivF3Tt8F5-x8Q4pBW...          -1   \n",
       "\n",
       "   sentiScore_neg  sentiScore_pos  \\\n",
       "0              -4               4   \n",
       "1              -1               1   \n",
       "\n",
       "                                             stemmed  \\\n",
       "0  urrrrm aft my third re installing, it fin has ...   \n",
       "1  doe exact what it say on the tin effecy enough...   \n",
       "\n",
       "                                   stopwords_removal  \\\n",
       "0  urrrrm after third re installing, finally has ...   \n",
       "1  does exactly what says tin effecient enough to...   \n",
       "\n",
       "                     stopwords_removal_lemmatization  \\\n",
       "0  urrrrm after third re installing, finally have...   \n",
       "1  do exactly what say tin effecient enough to ch...   \n",
       "\n",
       "                              stopwords_removal_nltk  title  \n",
       "0  urrrrm third re installing, finally scenery ha...   None  \n",
       "1  exactly says tin effecient enough check respon...   None  \n",
       "\n",
       "[2 rows x 25 columns]"
      ]
     },
     "execution_count": 24,
     "metadata": {},
     "output_type": "execute_result"
    }
   ],
   "source": [
    "ux_data.head(2)"
   ]
  },
  {
   "cell_type": "code",
   "execution_count": 27,
   "metadata": {},
   "outputs": [],
   "source": [
    "ux_data['label'] = 'non-functional requirement'\n",
    "rating_data['label'] = 'other'\n",
    "feature_data['label'] = 'functional requirement'"
   ]
  },
  {
   "cell_type": "markdown",
   "metadata": {},
   "source": [
    "# Contando o numero de categorias entre os categorizados por mim"
   ]
  },
  {
   "cell_type": "code",
   "execution_count": 36,
   "metadata": {},
   "outputs": [],
   "source": [
    "count = categorizados_data['requirement_type'].value_counts()"
   ]
  },
  {
   "cell_type": "code",
   "execution_count": 37,
   "metadata": {},
   "outputs": [
    {
     "data": {
      "text/plain": [
       "other                         3357\n",
       "functional requirement         932\n",
       "non-functional requirement     512\n",
       "Name: requirement_type, dtype: int64"
      ]
     },
     "execution_count": 37,
     "metadata": {},
     "output_type": "execute_result"
    }
   ],
   "source": [
    "count"
   ]
  },
  {
   "cell_type": "markdown",
   "metadata": {},
   "source": [
    "# Contando quantos novos reviews existem após a realocação dos reviews de Maleej"
   ]
  },
  {
   "cell_type": "code",
   "execution_count": 38,
   "metadata": {},
   "outputs": [
    {
     "name": "stdout",
     "output_type": "stream",
     "text": [
      "1119 5819 1227\n"
     ]
    }
   ],
   "source": [
    "print(\n",
    "    count['non-functional requirement'] + len(ux_data),\n",
    "    count['other'] + len(rating_data),\n",
    "    count['functional requirement'] + len(feature_data)\n",
    ")"
   ]
  },
  {
   "cell_type": "code",
   "execution_count": 39,
   "metadata": {},
   "outputs": [
    {
     "name": "stdout",
     "output_type": "stream",
     "text": [
      "8165\n"
     ]
    }
   ],
   "source": [
    "print(\n",
    "    count['non-functional requirement'] + len(ux_data) +\n",
    "    count['other'] + len(rating_data) +\n",
    "    count['functional requirement'] + len(feature_data)\n",
    ")"
   ]
  },
  {
   "cell_type": "code",
   "execution_count": 40,
   "metadata": {},
   "outputs": [],
   "source": [
    "ux_data.to_json('ux_non-func.json')\n",
    "rating_data.to_json('rating_spam.json')\n",
    "feature_data.to_json('feature-func.json')\n"
   ]
  },
  {
   "cell_type": "markdown",
   "metadata": {},
   "source": [
    "# Juntando os dados\n"
   ]
  },
  {
   "cell_type": "code",
   "execution_count": 42,
   "metadata": {},
   "outputs": [],
   "source": [
    "colunas = ['reviewText', 'summary', 'requirement_type']\n",
    "manual = categorizados_data[colunas]"
   ]
  },
  {
   "cell_type": "code",
   "execution_count": 43,
   "metadata": {},
   "outputs": [
    {
     "data": {
      "text/html": [
       "<div>\n",
       "<style scoped>\n",
       "    .dataframe tbody tr th:only-of-type {\n",
       "        vertical-align: middle;\n",
       "    }\n",
       "\n",
       "    .dataframe tbody tr th {\n",
       "        vertical-align: top;\n",
       "    }\n",
       "\n",
       "    .dataframe thead th {\n",
       "        text-align: right;\n",
       "    }\n",
       "</style>\n",
       "<table border=\"1\" class=\"dataframe\">\n",
       "  <thead>\n",
       "    <tr style=\"text-align: right;\">\n",
       "      <th></th>\n",
       "      <th>reviewText</th>\n",
       "      <th>summary</th>\n",
       "      <th>requirement_type</th>\n",
       "    </tr>\n",
       "  </thead>\n",
       "  <tbody>\n",
       "    <tr>\n",
       "      <th>0</th>\n",
       "      <td>How dissapointing..downloaded and found it doe...</td>\n",
       "      <td>Extreme Dissappointment</td>\n",
       "      <td>non-functional requirement</td>\n",
       "    </tr>\n",
       "    <tr>\n",
       "      <th>1</th>\n",
       "      <td>This is great for kids my two year old son lov...</td>\n",
       "      <td>great</td>\n",
       "      <td>other</td>\n",
       "    </tr>\n",
       "    <tr>\n",
       "      <th>2</th>\n",
       "      <td>Loves the song, so he really couldn't wait to ...</td>\n",
       "      <td>Really cute</td>\n",
       "      <td>non-functional requirement</td>\n",
       "    </tr>\n",
       "    <tr>\n",
       "      <th>3</th>\n",
       "      <td>My three year old Plays this game the most he ...</td>\n",
       "      <td>Five little monkeys</td>\n",
       "      <td>other</td>\n",
       "    </tr>\n",
       "    <tr>\n",
       "      <th>4</th>\n",
       "      <td>As a Speech language pathology Assistant I hav...</td>\n",
       "      <td>My patients request this app everytime they se...</td>\n",
       "      <td>other</td>\n",
       "    </tr>\n",
       "  </tbody>\n",
       "</table>\n",
       "</div>"
      ],
      "text/plain": [
       "                                          reviewText  \\\n",
       "0  How dissapointing..downloaded and found it doe...   \n",
       "1  This is great for kids my two year old son lov...   \n",
       "2  Loves the song, so he really couldn't wait to ...   \n",
       "3  My three year old Plays this game the most he ...   \n",
       "4  As a Speech language pathology Assistant I hav...   \n",
       "\n",
       "                                             summary  \\\n",
       "0                            Extreme Dissappointment   \n",
       "1                                              great   \n",
       "2                                        Really cute   \n",
       "3                                Five little monkeys   \n",
       "4  My patients request this app everytime they se...   \n",
       "\n",
       "             requirement_type  \n",
       "0  non-functional requirement  \n",
       "1                       other  \n",
       "2  non-functional requirement  \n",
       "3                       other  \n",
       "4                       other  "
      ]
     },
     "execution_count": 43,
     "metadata": {},
     "output_type": "execute_result"
    }
   ],
   "source": [
    "manual.head()"
   ]
  },
  {
   "cell_type": "code",
   "execution_count": 50,
   "metadata": {},
   "outputs": [],
   "source": [
    "colunas = ['comment', 'title', 'label']\n",
    "\n",
    "ux_data = ux_data[colunas]\n",
    "rating_data = rating_data[colunas]\n",
    "feature_data = feature_data[colunas]"
   ]
  },
  {
   "cell_type": "code",
   "execution_count": 51,
   "metadata": {},
   "outputs": [
    {
     "data": {
      "text/html": [
       "<div>\n",
       "<style scoped>\n",
       "    .dataframe tbody tr th:only-of-type {\n",
       "        vertical-align: middle;\n",
       "    }\n",
       "\n",
       "    .dataframe tbody tr th {\n",
       "        vertical-align: top;\n",
       "    }\n",
       "\n",
       "    .dataframe thead th {\n",
       "        text-align: right;\n",
       "    }\n",
       "</style>\n",
       "<table border=\"1\" class=\"dataframe\">\n",
       "  <thead>\n",
       "    <tr style=\"text-align: right;\">\n",
       "      <th></th>\n",
       "      <th>comment</th>\n",
       "      <th>title</th>\n",
       "      <th>label</th>\n",
       "    </tr>\n",
       "  </thead>\n",
       "  <tbody>\n",
       "    <tr>\n",
       "      <th>0</th>\n",
       "      <td>Urrrrm\\tAfter my third re installing, it final...</td>\n",
       "      <td>None</td>\n",
       "      <td>non-functional requirement</td>\n",
       "    </tr>\n",
       "    <tr>\n",
       "      <th>1</th>\n",
       "      <td>Does exactly what it says on the tin\\tEffecien...</td>\n",
       "      <td>None</td>\n",
       "      <td>non-functional requirement</td>\n",
       "    </tr>\n",
       "    <tr>\n",
       "      <th>2</th>\n",
       "      <td>Best of what's available\\tI've purchased a few...</td>\n",
       "      <td>None</td>\n",
       "      <td>non-functional requirement</td>\n",
       "    </tr>\n",
       "    <tr>\n",
       "      <th>3</th>\n",
       "      <td>Finally an Office Suite which works great\\tI h...</td>\n",
       "      <td>None</td>\n",
       "      <td>non-functional requirement</td>\n",
       "    </tr>\n",
       "    <tr>\n",
       "      <th>4</th>\n",
       "      <td>Pretty good!\\tI've edited many photos using th...</td>\n",
       "      <td>None</td>\n",
       "      <td>non-functional requirement</td>\n",
       "    </tr>\n",
       "  </tbody>\n",
       "</table>\n",
       "</div>"
      ],
      "text/plain": [
       "                                             comment title  \\\n",
       "0  Urrrrm\\tAfter my third re installing, it final...  None   \n",
       "1  Does exactly what it says on the tin\\tEffecien...  None   \n",
       "2  Best of what's available\\tI've purchased a few...  None   \n",
       "3  Finally an Office Suite which works great\\tI h...  None   \n",
       "4  Pretty good!\\tI've edited many photos using th...  None   \n",
       "\n",
       "                        label  \n",
       "0  non-functional requirement  \n",
       "1  non-functional requirement  \n",
       "2  non-functional requirement  \n",
       "3  non-functional requirement  \n",
       "4  non-functional requirement  "
      ]
     },
     "execution_count": 51,
     "metadata": {},
     "output_type": "execute_result"
    }
   ],
   "source": [
    "ux_data.head()"
   ]
  }
 ],
 "metadata": {
  "kernelspec": {
   "display_name": "Python 3",
   "language": "python",
   "name": "python3"
  },
  "language_info": {
   "codemirror_mode": {
    "name": "ipython",
    "version": 3
   },
   "file_extension": ".py",
   "mimetype": "text/x-python",
   "name": "python",
   "nbconvert_exporter": "python",
   "pygments_lexer": "ipython3",
   "version": "3.5.3"
  }
 },
 "nbformat": 4,
 "nbformat_minor": 2
}
